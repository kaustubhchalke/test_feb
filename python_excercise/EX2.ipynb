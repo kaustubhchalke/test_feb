{
 "cells": [
  {
   "cell_type": "code",
   "execution_count": 4,
   "metadata": {},
   "outputs": [
    {
     "name": "stdout",
     "output_type": "stream",
     "text": [
      "['t', 'o', 't', 'h', 'o', 'h', 'i', 's', 'o', 's', 'i', 's', 'o', 's', 'f', 'o', 'f', 'u', 'o', 'u', 'n', 'o', 'n']\n"
     ]
    }
   ],
   "source": [
    "# Consulate\n",
    "mytext = 'thisisfun'\n",
    "consonants = 'bcdfghjklmnpqrstuvwxyz'\n",
    "newtext = []\n",
    "def translate(mytext):\n",
    "    for i in mytext:\n",
    "        if i not in consonants:\n",
    "            newtext.append(i)\n",
    "        else:\n",
    "            newtext.append(i)\n",
    "            newtext.append('o')\n",
    "            newtext.append(i)\n",
    "    print(newtext)\n",
    "\n",
    "translate(mytext)"
   ]
  },
  {
   "cell_type": "code",
   "execution_count": 6,
   "metadata": {},
   "outputs": [
    {
     "name": "stdout",
     "output_type": "stream",
     "text": [
      "10\n",
      "24\n"
     ]
    }
   ],
   "source": [
    "#SUm and multiply\n",
    "def sum(inList):\n",
    "    result = 0\n",
    "    for i in inList:\n",
    "        result += i\n",
    "    return result\n",
    " \n",
    "def multiply(inList):\n",
    "    product = 1 #Don't use 0 here or your result will always be 0\n",
    "    for i in inList:\n",
    "        product *= i\n",
    "    return product\n",
    " \n",
    "def main():\n",
    "    print(sum([1,2,3,4]))\n",
    "    print(multiply([1,2,3,4]))\n",
    "     \n",
    "if __name__ == '__main__':\n",
    "    main()"
   ]
  },
  {
   "cell_type": "code",
   "execution_count": 10,
   "metadata": {},
   "outputs": [
    {
     "name": "stdout",
     "output_type": "stream",
     "text": [
      "gnitset ma I\n"
     ]
    }
   ],
   "source": [
    "def reverse(string):\n",
    "    result = []\n",
    "    for word in string.split()[::-1]:\n",
    "        result.append(word[::-1])\n",
    "    return \" \".join(result)\n",
    "\n",
    "\n",
    "print(reverse(\"I am testing\"))"
   ]
  },
  {
   "cell_type": "code",
   "execution_count": 12,
   "metadata": {},
   "outputs": [
    {
     "ename": "SyntaxError",
     "evalue": "invalid syntax (<ipython-input-12-c76b003c17f2>, line 6)",
     "output_type": "error",
     "traceback": [
      "\u001b[1;36m  File \u001b[1;32m\"<ipython-input-12-c76b003c17f2>\"\u001b[1;36m, line \u001b[1;32m6\u001b[0m\n\u001b[1;33m    print is_palindrome(\"aabbaa\")\u001b[0m\n\u001b[1;37m                      ^\u001b[0m\n\u001b[1;31mSyntaxError\u001b[0m\u001b[1;31m:\u001b[0m invalid syntax\n"
     ]
    }
   ],
   "source": [
    "def is_palindrome(string):\n",
    "    return string == string[::-1]\n",
    "\n",
    "\n",
    "if __name__ == \"__main__\":\n",
    "    print is_palindrome(\"aabbaa\")\n",
    "    print is_palindrome(\"abc\")\n",
    "    print is_palindrome(\"radar\")"
   ]
  },
  {
   "cell_type": "code",
   "execution_count": 15,
   "metadata": {},
   "outputs": [],
   "source": [
    "def is_member(x,a):\n",
    "  x = 0\n",
    "  a = [5, 4, 3, 2]   \n",
    "  try:\n",
    "    a.index(x)\n",
    "    return True\n",
    "  except:\n",
    "    return False"
   ]
  }
 ],
 "metadata": {
  "kernelspec": {
   "display_name": "Python 3",
   "language": "python",
   "name": "python3"
  },
  "language_info": {
   "codemirror_mode": {
    "name": "ipython",
    "version": 3
   },
   "file_extension": ".py",
   "mimetype": "text/x-python",
   "name": "python",
   "nbconvert_exporter": "python",
   "pygments_lexer": "ipython3",
   "version": "3.7.3"
  }
 },
 "nbformat": 4,
 "nbformat_minor": 2
}
